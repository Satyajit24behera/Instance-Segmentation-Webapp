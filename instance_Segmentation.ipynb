{
  "cells": [
    {
      "cell_type": "markdown",
      "metadata": {
        "id": "view-in-github",
        "colab_type": "text"
      },
      "source": [
        "<a href=\"https://colab.research.google.com/github/Satyajit24behera/Instance-Segmentation-Webapp/blob/main/instance_Segmentation.ipynb\" target=\"_parent\"><img src=\"https://colab.research.google.com/assets/colab-badge.svg\" alt=\"Open In Colab\"/></a>"
      ]
    },
    {
      "cell_type": "markdown",
      "metadata": {
        "id": "-CNCQaVw9w6C"
      },
      "source": [
        "# Step 0: Prerequisite\n",
        "\n",
        "Get your Authentication Tokens from Ngrok and save it in a notebook. You need it later to run app.\n",
        "\n",
        "1.Go to https://dashboard.ngrok.com/get-started/setup signup for free\n",
        "\n",
        "\n",
        "2.Once you are logged in go to https://dashboard.ngrok.com/get-started/your-authtoken and copy+paste token and save it for later use.\n",
        "\n",
        "\n",
        "**NOTE**: If you already have auth token the you can skip above steps and use that token\n",
        "\n"
      ]
    },
    {
      "cell_type": "markdown",
      "metadata": {
        "id": "K8yvElJh-QhB"
      },
      "source": [
        "# Step 1: Setup Chunk\n",
        " Step 1.1: Install dependencies"
      ]
    },
    {
      "cell_type": "code",
      "execution_count": 1,
      "metadata": {
        "colab": {
          "base_uri": "https://localhost:8080/"
        },
        "id": "qC64JX-Z-RG9",
        "outputId": "271d2fb1-1800-4307-a308-cfc9a9d3789b"
      },
      "outputs": [
        {
          "output_type": "stream",
          "name": "stdout",
          "text": [
            "Collecting streamlit\n",
            "  Downloading streamlit-1.25.0-py2.py3-none-any.whl (8.1 MB)\n",
            "\u001b[?25l     \u001b[90m━━━━━━━━━━━━━━━━━━━━━━━━━━━━━━━━━━━━━━━━\u001b[0m \u001b[32m0.0/8.1 MB\u001b[0m \u001b[31m?\u001b[0m eta \u001b[36m-:--:--\u001b[0m\r\u001b[2K     \u001b[91m━━\u001b[0m\u001b[91m╸\u001b[0m\u001b[90m━━━━━━━━━━━━━━━━━━━━━━━━━━━━━━━━━━━━━\u001b[0m \u001b[32m0.6/8.1 MB\u001b[0m \u001b[31m17.2 MB/s\u001b[0m eta \u001b[36m0:00:01\u001b[0m\r\u001b[2K     \u001b[91m━━━━━━━━━━━\u001b[0m\u001b[91m╸\u001b[0m\u001b[90m━━━━━━━━━━━━━━━━━━━━━━━━━━━━\u001b[0m \u001b[32m2.4/8.1 MB\u001b[0m \u001b[31m34.6 MB/s\u001b[0m eta \u001b[36m0:00:01\u001b[0m\r\u001b[2K     \u001b[91m━━━━━━━━━━━━━━━━━━━━━━━━━━━━\u001b[0m\u001b[91m╸\u001b[0m\u001b[90m━━━━━━━━━━━\u001b[0m \u001b[32m5.8/8.1 MB\u001b[0m \u001b[31m55.6 MB/s\u001b[0m eta \u001b[36m0:00:01\u001b[0m\r\u001b[2K     \u001b[91m━━━━━━━━━━━━━━━━━━━━━━━━━━━━━━━━━━━━━━━\u001b[0m\u001b[91m╸\u001b[0m \u001b[32m8.1/8.1 MB\u001b[0m \u001b[31m67.0 MB/s\u001b[0m eta \u001b[36m0:00:01\u001b[0m\r\u001b[2K     \u001b[90m━━━━━━━━━━━━━━━━━━━━━━━━━━━━━━━━━━━━━━━━\u001b[0m \u001b[32m8.1/8.1 MB\u001b[0m \u001b[31m53.8 MB/s\u001b[0m eta \u001b[36m0:00:00\u001b[0m\n",
            "\u001b[?25hRequirement already satisfied: altair<6,>=4.0 in /usr/local/lib/python3.10/dist-packages (from streamlit) (4.2.2)\n",
            "Requirement already satisfied: blinker<2,>=1.0.0 in /usr/lib/python3/dist-packages (from streamlit) (1.4)\n",
            "Requirement already satisfied: cachetools<6,>=4.0 in /usr/local/lib/python3.10/dist-packages (from streamlit) (5.3.1)\n",
            "Requirement already satisfied: click<9,>=7.0 in /usr/local/lib/python3.10/dist-packages (from streamlit) (8.1.4)\n",
            "Requirement already satisfied: importlib-metadata<7,>=1.4 in /usr/lib/python3/dist-packages (from streamlit) (4.6.4)\n",
            "Requirement already satisfied: numpy<2,>=1.19.3 in /usr/local/lib/python3.10/dist-packages (from streamlit) (1.22.4)\n",
            "Requirement already satisfied: packaging<24,>=16.8 in /usr/local/lib/python3.10/dist-packages (from streamlit) (23.1)\n",
            "Requirement already satisfied: pandas<3,>=1.3.0 in /usr/local/lib/python3.10/dist-packages (from streamlit) (1.5.3)\n",
            "Requirement already satisfied: pillow<10,>=7.1.0 in /usr/local/lib/python3.10/dist-packages (from streamlit) (8.4.0)\n",
            "Requirement already satisfied: protobuf<5,>=3.20 in /usr/local/lib/python3.10/dist-packages (from streamlit) (3.20.3)\n",
            "Requirement already satisfied: pyarrow>=6.0 in /usr/local/lib/python3.10/dist-packages (from streamlit) (9.0.0)\n",
            "Collecting pympler<2,>=0.9 (from streamlit)\n",
            "  Downloading Pympler-1.0.1-py3-none-any.whl (164 kB)\n",
            "\u001b[2K     \u001b[90m━━━━━━━━━━━━━━━━━━━━━━━━━━━━━━━━━━━━━━\u001b[0m \u001b[32m164.8/164.8 kB\u001b[0m \u001b[31m17.2 MB/s\u001b[0m eta \u001b[36m0:00:00\u001b[0m\n",
            "\u001b[?25hRequirement already satisfied: python-dateutil<3,>=2.7.3 in /usr/local/lib/python3.10/dist-packages (from streamlit) (2.8.2)\n",
            "Requirement already satisfied: requests<3,>=2.18 in /usr/local/lib/python3.10/dist-packages (from streamlit) (2.27.1)\n",
            "Requirement already satisfied: rich<14,>=10.14.0 in /usr/local/lib/python3.10/dist-packages (from streamlit) (13.4.2)\n",
            "Requirement already satisfied: tenacity<9,>=8.1.0 in /usr/local/lib/python3.10/dist-packages (from streamlit) (8.2.2)\n",
            "Requirement already satisfied: toml<2,>=0.10.1 in /usr/local/lib/python3.10/dist-packages (from streamlit) (0.10.2)\n",
            "Requirement already satisfied: typing-extensions<5,>=4.1.0 in /usr/local/lib/python3.10/dist-packages (from streamlit) (4.7.1)\n",
            "Collecting tzlocal<5,>=1.1 (from streamlit)\n",
            "  Downloading tzlocal-4.3.1-py3-none-any.whl (20 kB)\n",
            "Collecting validators<1,>=0.2 (from streamlit)\n",
            "  Downloading validators-0.20.0.tar.gz (30 kB)\n",
            "  Preparing metadata (setup.py) ... \u001b[?25l\u001b[?25hdone\n",
            "Collecting gitpython!=3.1.19,<4,>=3.0.7 (from streamlit)\n",
            "  Downloading GitPython-3.1.32-py3-none-any.whl (188 kB)\n",
            "\u001b[2K     \u001b[90m━━━━━━━━━━━━━━━━━━━━━━━━━━━━━━━━━━━━━━\u001b[0m \u001b[32m188.5/188.5 kB\u001b[0m \u001b[31m22.4 MB/s\u001b[0m eta \u001b[36m0:00:00\u001b[0m\n",
            "\u001b[?25hCollecting pydeck<1,>=0.8 (from streamlit)\n",
            "  Downloading pydeck-0.8.0-py2.py3-none-any.whl (4.7 MB)\n",
            "\u001b[2K     \u001b[90m━━━━━━━━━━━━━━━━━━━━━━━━━━━━━━━━━━━━━━━━\u001b[0m \u001b[32m4.7/4.7 MB\u001b[0m \u001b[31m112.5 MB/s\u001b[0m eta \u001b[36m0:00:00\u001b[0m\n",
            "\u001b[?25hRequirement already satisfied: tornado<7,>=6.0.3 in /usr/local/lib/python3.10/dist-packages (from streamlit) (6.3.1)\n",
            "Collecting watchdog>=2.1.5 (from streamlit)\n",
            "  Downloading watchdog-3.0.0-py3-none-manylinux2014_x86_64.whl (82 kB)\n",
            "\u001b[2K     \u001b[90m━━━━━━━━━━━━━━━━━━━━━━━━━━━━━━━━━━━━━━━━\u001b[0m \u001b[32m82.1/82.1 kB\u001b[0m \u001b[31m11.6 MB/s\u001b[0m eta \u001b[36m0:00:00\u001b[0m\n",
            "\u001b[?25hRequirement already satisfied: entrypoints in /usr/local/lib/python3.10/dist-packages (from altair<6,>=4.0->streamlit) (0.4)\n",
            "Requirement already satisfied: jinja2 in /usr/local/lib/python3.10/dist-packages (from altair<6,>=4.0->streamlit) (3.1.2)\n",
            "Requirement already satisfied: jsonschema>=3.0 in /usr/local/lib/python3.10/dist-packages (from altair<6,>=4.0->streamlit) (4.3.3)\n",
            "Requirement already satisfied: toolz in /usr/local/lib/python3.10/dist-packages (from altair<6,>=4.0->streamlit) (0.12.0)\n",
            "Collecting gitdb<5,>=4.0.1 (from gitpython!=3.1.19,<4,>=3.0.7->streamlit)\n",
            "  Downloading gitdb-4.0.10-py3-none-any.whl (62 kB)\n",
            "\u001b[2K     \u001b[90m━━━━━━━━━━━━━━━━━━━━━━━━━━━━━━━━━━━━━━━━\u001b[0m \u001b[32m62.7/62.7 kB\u001b[0m \u001b[31m8.6 MB/s\u001b[0m eta \u001b[36m0:00:00\u001b[0m\n",
            "\u001b[?25hRequirement already satisfied: pytz>=2020.1 in /usr/local/lib/python3.10/dist-packages (from pandas<3,>=1.3.0->streamlit) (2022.7.1)\n",
            "Requirement already satisfied: six>=1.5 in /usr/local/lib/python3.10/dist-packages (from python-dateutil<3,>=2.7.3->streamlit) (1.16.0)\n",
            "Requirement already satisfied: urllib3<1.27,>=1.21.1 in /usr/local/lib/python3.10/dist-packages (from requests<3,>=2.18->streamlit) (1.26.16)\n",
            "Requirement already satisfied: certifi>=2017.4.17 in /usr/local/lib/python3.10/dist-packages (from requests<3,>=2.18->streamlit) (2023.5.7)\n",
            "Requirement already satisfied: charset-normalizer~=2.0.0 in /usr/local/lib/python3.10/dist-packages (from requests<3,>=2.18->streamlit) (2.0.12)\n",
            "Requirement already satisfied: idna<4,>=2.5 in /usr/local/lib/python3.10/dist-packages (from requests<3,>=2.18->streamlit) (3.4)\n",
            "Requirement already satisfied: markdown-it-py>=2.2.0 in /usr/local/lib/python3.10/dist-packages (from rich<14,>=10.14.0->streamlit) (3.0.0)\n",
            "Requirement already satisfied: pygments<3.0.0,>=2.13.0 in /usr/local/lib/python3.10/dist-packages (from rich<14,>=10.14.0->streamlit) (2.14.0)\n",
            "Collecting pytz-deprecation-shim (from tzlocal<5,>=1.1->streamlit)\n",
            "  Downloading pytz_deprecation_shim-0.1.0.post0-py2.py3-none-any.whl (15 kB)\n",
            "Requirement already satisfied: decorator>=3.4.0 in /usr/local/lib/python3.10/dist-packages (from validators<1,>=0.2->streamlit) (4.4.2)\n",
            "Collecting smmap<6,>=3.0.1 (from gitdb<5,>=4.0.1->gitpython!=3.1.19,<4,>=3.0.7->streamlit)\n",
            "  Downloading smmap-5.0.0-py3-none-any.whl (24 kB)\n",
            "Requirement already satisfied: MarkupSafe>=2.0 in /usr/local/lib/python3.10/dist-packages (from jinja2->altair<6,>=4.0->streamlit) (2.1.3)\n",
            "Requirement already satisfied: attrs>=17.4.0 in /usr/local/lib/python3.10/dist-packages (from jsonschema>=3.0->altair<6,>=4.0->streamlit) (23.1.0)\n",
            "Requirement already satisfied: pyrsistent!=0.17.0,!=0.17.1,!=0.17.2,>=0.14.0 in /usr/local/lib/python3.10/dist-packages (from jsonschema>=3.0->altair<6,>=4.0->streamlit) (0.19.3)\n",
            "Requirement already satisfied: mdurl~=0.1 in /usr/local/lib/python3.10/dist-packages (from markdown-it-py>=2.2.0->rich<14,>=10.14.0->streamlit) (0.1.2)\n",
            "Collecting tzdata (from pytz-deprecation-shim->tzlocal<5,>=1.1->streamlit)\n",
            "  Downloading tzdata-2023.3-py2.py3-none-any.whl (341 kB)\n",
            "\u001b[2K     \u001b[90m━━━━━━━━━━━━━━━━━━━━━━━━━━━━━━━━━━━━━━\u001b[0m \u001b[32m341.8/341.8 kB\u001b[0m \u001b[31m38.5 MB/s\u001b[0m eta \u001b[36m0:00:00\u001b[0m\n",
            "\u001b[?25hBuilding wheels for collected packages: validators\n",
            "  Building wheel for validators (setup.py) ... \u001b[?25l\u001b[?25hdone\n",
            "  Created wheel for validators: filename=validators-0.20.0-py3-none-any.whl size=19579 sha256=4ecef38f28349ffb0874c0011fda68301017fd7472f8787f9960ce5f9a2f58a4\n",
            "  Stored in directory: /root/.cache/pip/wheels/f2/ed/dd/d3a556ad245ef9dc570c6bcd2f22886d17b0b408dd3bbb9ac3\n",
            "Successfully built validators\n",
            "Installing collected packages: watchdog, validators, tzdata, smmap, pympler, pytz-deprecation-shim, pydeck, gitdb, tzlocal, gitpython, streamlit\n",
            "  Attempting uninstall: tzlocal\n",
            "    Found existing installation: tzlocal 5.0.1\n",
            "    Uninstalling tzlocal-5.0.1:\n",
            "      Successfully uninstalled tzlocal-5.0.1\n",
            "Successfully installed gitdb-4.0.10 gitpython-3.1.32 pydeck-0.8.0 pympler-1.0.1 pytz-deprecation-shim-0.1.0.post0 smmap-5.0.0 streamlit-1.25.0 tzdata-2023.3 tzlocal-4.3.1 validators-0.20.0 watchdog-3.0.0\n"
          ]
        }
      ],
      "source": [
        "!pip install streamlit\n"
      ]
    },
    {
      "cell_type": "code",
      "execution_count": 2,
      "metadata": {
        "colab": {
          "base_uri": "https://localhost:8080/"
        },
        "id": "QsUI591t-XSH",
        "outputId": "776dd241-b6c7-4163-e6ca-65d3ef2415a4"
      },
      "outputs": [
        {
          "output_type": "stream",
          "name": "stdout",
          "text": [
            "Collecting pyngrok==4.1.1\n",
            "  Downloading pyngrok-4.1.1.tar.gz (18 kB)\n",
            "  Preparing metadata (setup.py) ... \u001b[?25l\u001b[?25hdone\n",
            "Requirement already satisfied: future in /usr/local/lib/python3.10/dist-packages (from pyngrok==4.1.1) (0.18.3)\n",
            "Requirement already satisfied: PyYAML in /usr/local/lib/python3.10/dist-packages (from pyngrok==4.1.1) (6.0)\n",
            "Building wheels for collected packages: pyngrok\n",
            "  Building wheel for pyngrok (setup.py) ... \u001b[?25l\u001b[?25hdone\n",
            "  Created wheel for pyngrok: filename=pyngrok-4.1.1-py3-none-any.whl size=15963 sha256=2cfc3f262df74cffd960290ac919703db0df1d8e0f9676d34ca31a540b3919bd\n",
            "  Stored in directory: /root/.cache/pip/wheels/4c/7c/4c/632fba2ea8e88d8890102eb07bc922e1ca8fa14db5902c91a8\n",
            "Successfully built pyngrok\n",
            "Installing collected packages: pyngrok\n",
            "Successfully installed pyngrok-4.1.1\n"
          ]
        }
      ],
      "source": [
        "pip install pyngrok==4.1.1"
      ]
    },
    {
      "cell_type": "markdown",
      "metadata": {
        "id": "NTSabZdO-dBn"
      },
      "source": [
        "Step 1.2: Replace XXXXXX with your ngrok token\n"
      ]
    },
    {
      "cell_type": "code",
      "execution_count": 3,
      "metadata": {
        "colab": {
          "base_uri": "https://localhost:8080/"
        },
        "id": "fTH2g2vP-dzw",
        "outputId": "a0cfed14-0355-4670-8880-27fbc9a393bd"
      },
      "outputs": [
        {
          "output_type": "stream",
          "name": "stdout",
          "text": [
            "Authtoken saved to configuration file: /root/.ngrok2/ngrok.yml\n"
          ]
        }
      ],
      "source": [
        "#Replace the xxxx with authtoken\n",
        "!ngrok authtoken 2RdaFL2BBdIi9sVDUb2sJX2Kzbq_83JxMGDVAjNACaFVUL6ks"
      ]
    },
    {
      "cell_type": "markdown",
      "metadata": {
        "id": "aNIvC29b-k4P"
      },
      "source": [
        "Step 1.3 Git hub Cloning"
      ]
    },
    {
      "cell_type": "code",
      "source": [
        "pip install git+https://github.com/Satyajit24behera/ultralytics"
      ],
      "metadata": {
        "colab": {
          "base_uri": "https://localhost:8080/"
        },
        "id": "IQx15OxUquN8",
        "outputId": "711a5f5c-04a3-4dbb-f8b2-16e3c0e32dec"
      },
      "execution_count": 1,
      "outputs": [
        {
          "output_type": "stream",
          "name": "stdout",
          "text": [
            "Collecting git+https://github.com/Satyajit24behera/ultralytics\n",
            "  Cloning https://github.com/Satyajit24behera/ultralytics to /tmp/pip-req-build-d2ql7r5f\n",
            "  Running command git clone --filter=blob:none --quiet https://github.com/Satyajit24behera/ultralytics /tmp/pip-req-build-d2ql7r5f\n",
            "  Resolved https://github.com/Satyajit24behera/ultralytics to commit ed87c72e8d007d95c8dc9bf733c4e6a4ab785cd0\n",
            "  Preparing metadata (setup.py) ... \u001b[?25l\u001b[?25hdone\n",
            "Requirement already satisfied: matplotlib>=3.2.2 in /usr/local/lib/python3.10/dist-packages (from ultralytics==8.0.139) (3.7.1)\n",
            "Requirement already satisfied: opencv-python>=4.6.0 in /usr/local/lib/python3.10/dist-packages (from ultralytics==8.0.139) (4.7.0.72)\n",
            "Requirement already satisfied: Pillow>=7.1.2 in /usr/local/lib/python3.10/dist-packages (from ultralytics==8.0.139) (8.4.0)\n",
            "Requirement already satisfied: PyYAML>=5.3.1 in /usr/local/lib/python3.10/dist-packages (from ultralytics==8.0.139) (6.0)\n",
            "Requirement already satisfied: requests>=2.23.0 in /usr/local/lib/python3.10/dist-packages (from ultralytics==8.0.139) (2.27.1)\n",
            "Requirement already satisfied: scipy>=1.4.1 in /usr/local/lib/python3.10/dist-packages (from ultralytics==8.0.139) (1.10.1)\n",
            "Requirement already satisfied: torch>=1.7.0 in /usr/local/lib/python3.10/dist-packages (from ultralytics==8.0.139) (2.0.1+cu118)\n",
            "Requirement already satisfied: torchvision>=0.8.1 in /usr/local/lib/python3.10/dist-packages (from ultralytics==8.0.139) (0.15.2+cu118)\n",
            "Requirement already satisfied: tqdm>=4.64.0 in /usr/local/lib/python3.10/dist-packages (from ultralytics==8.0.139) (4.65.0)\n",
            "Requirement already satisfied: pandas>=1.1.4 in /usr/local/lib/python3.10/dist-packages (from ultralytics==8.0.139) (1.5.3)\n",
            "Requirement already satisfied: seaborn>=0.11.0 in /usr/local/lib/python3.10/dist-packages (from ultralytics==8.0.139) (0.12.2)\n",
            "Requirement already satisfied: psutil in /usr/local/lib/python3.10/dist-packages (from ultralytics==8.0.139) (5.9.5)\n",
            "Requirement already satisfied: contourpy>=1.0.1 in /usr/local/lib/python3.10/dist-packages (from matplotlib>=3.2.2->ultralytics==8.0.139) (1.1.0)\n",
            "Requirement already satisfied: cycler>=0.10 in /usr/local/lib/python3.10/dist-packages (from matplotlib>=3.2.2->ultralytics==8.0.139) (0.11.0)\n",
            "Requirement already satisfied: fonttools>=4.22.0 in /usr/local/lib/python3.10/dist-packages (from matplotlib>=3.2.2->ultralytics==8.0.139) (4.41.0)\n",
            "Requirement already satisfied: kiwisolver>=1.0.1 in /usr/local/lib/python3.10/dist-packages (from matplotlib>=3.2.2->ultralytics==8.0.139) (1.4.4)\n",
            "Requirement already satisfied: numpy>=1.20 in /usr/local/lib/python3.10/dist-packages (from matplotlib>=3.2.2->ultralytics==8.0.139) (1.22.4)\n",
            "Requirement already satisfied: packaging>=20.0 in /usr/local/lib/python3.10/dist-packages (from matplotlib>=3.2.2->ultralytics==8.0.139) (23.1)\n",
            "Requirement already satisfied: pyparsing>=2.3.1 in /usr/local/lib/python3.10/dist-packages (from matplotlib>=3.2.2->ultralytics==8.0.139) (3.1.0)\n",
            "Requirement already satisfied: python-dateutil>=2.7 in /usr/local/lib/python3.10/dist-packages (from matplotlib>=3.2.2->ultralytics==8.0.139) (2.8.2)\n",
            "Requirement already satisfied: pytz>=2020.1 in /usr/local/lib/python3.10/dist-packages (from pandas>=1.1.4->ultralytics==8.0.139) (2022.7.1)\n",
            "Requirement already satisfied: urllib3<1.27,>=1.21.1 in /usr/local/lib/python3.10/dist-packages (from requests>=2.23.0->ultralytics==8.0.139) (1.26.16)\n",
            "Requirement already satisfied: certifi>=2017.4.17 in /usr/local/lib/python3.10/dist-packages (from requests>=2.23.0->ultralytics==8.0.139) (2023.5.7)\n",
            "Requirement already satisfied: charset-normalizer~=2.0.0 in /usr/local/lib/python3.10/dist-packages (from requests>=2.23.0->ultralytics==8.0.139) (2.0.12)\n",
            "Requirement already satisfied: idna<4,>=2.5 in /usr/local/lib/python3.10/dist-packages (from requests>=2.23.0->ultralytics==8.0.139) (3.4)\n",
            "Requirement already satisfied: filelock in /usr/local/lib/python3.10/dist-packages (from torch>=1.7.0->ultralytics==8.0.139) (3.12.2)\n",
            "Requirement already satisfied: typing-extensions in /usr/local/lib/python3.10/dist-packages (from torch>=1.7.0->ultralytics==8.0.139) (4.7.1)\n",
            "Requirement already satisfied: sympy in /usr/local/lib/python3.10/dist-packages (from torch>=1.7.0->ultralytics==8.0.139) (1.11.1)\n",
            "Requirement already satisfied: networkx in /usr/local/lib/python3.10/dist-packages (from torch>=1.7.0->ultralytics==8.0.139) (3.1)\n",
            "Requirement already satisfied: jinja2 in /usr/local/lib/python3.10/dist-packages (from torch>=1.7.0->ultralytics==8.0.139) (3.1.2)\n",
            "Requirement already satisfied: triton==2.0.0 in /usr/local/lib/python3.10/dist-packages (from torch>=1.7.0->ultralytics==8.0.139) (2.0.0)\n",
            "Requirement already satisfied: cmake in /usr/local/lib/python3.10/dist-packages (from triton==2.0.0->torch>=1.7.0->ultralytics==8.0.139) (3.25.2)\n",
            "Requirement already satisfied: lit in /usr/local/lib/python3.10/dist-packages (from triton==2.0.0->torch>=1.7.0->ultralytics==8.0.139) (16.0.6)\n",
            "Requirement already satisfied: six>=1.5 in /usr/local/lib/python3.10/dist-packages (from python-dateutil>=2.7->matplotlib>=3.2.2->ultralytics==8.0.139) (1.16.0)\n",
            "Requirement already satisfied: MarkupSafe>=2.0 in /usr/local/lib/python3.10/dist-packages (from jinja2->torch>=1.7.0->ultralytics==8.0.139) (2.1.3)\n",
            "Requirement already satisfied: mpmath>=0.19 in /usr/local/lib/python3.10/dist-packages (from sympy->torch>=1.7.0->ultralytics==8.0.139) (1.3.0)\n",
            "Building wheels for collected packages: ultralytics\n",
            "  Building wheel for ultralytics (setup.py) ... \u001b[?25l\u001b[?25hdone\n",
            "  Created wheel for ultralytics: filename=ultralytics-8.0.139-py3-none-any.whl size=605890 sha256=709b143d7ed1efd66ae94caff858785307298001ea30c4da7012e1e74193b3b6\n",
            "  Stored in directory: /tmp/pip-ephem-wheel-cache-2rfod46x/wheels/b7/0e/fd/a59f8fde06d0b48718a15b99251346a53b045059d1c396ac30\n",
            "Successfully built ultralytics\n",
            "Installing collected packages: ultralytics\n",
            "Successfully installed ultralytics-8.0.139\n"
          ]
        }
      ]
    },
    {
      "cell_type": "code",
      "execution_count": 4,
      "metadata": {
        "colab": {
          "base_uri": "https://localhost:8080/"
        },
        "id": "vbyikdAL-hef",
        "outputId": "2bd5724d-2fa5-40ad-fc38-4b53df49d898"
      },
      "outputs": [
        {
          "output_type": "stream",
          "name": "stdout",
          "text": [
            "Cloning into 'Instance-Segmentation-Webapp'...\n",
            "remote: Enumerating objects: 399, done.\u001b[K\n",
            "remote: Counting objects: 100% (114/114), done.\u001b[K\n",
            "remote: Compressing objects: 100% (88/88), done.\u001b[K\n",
            "remote: Total 399 (delta 35), reused 80 (delta 26), pack-reused 285\u001b[K\n",
            "Receiving objects: 100% (399/399), 1.24 MiB | 14.81 MiB/s, done.\n",
            "Resolving deltas: 100% (72/72), done.\n"
          ]
        }
      ],
      "source": [
        "!git clone https://github.com/Satyajit24behera/Instance-Segmentation-Webapp"
      ]
    },
    {
      "cell_type": "markdown",
      "metadata": {
        "id": "9gVmm79--4t3"
      },
      "source": [
        "#Step 2: Hosting the Web app"
      ]
    },
    {
      "cell_type": "code",
      "execution_count": 28,
      "metadata": {
        "colab": {
          "base_uri": "https://localhost:8080/"
        },
        "id": "S1-u5PoC-1e3",
        "outputId": "954748ff-fb8b-4822-c5e9-67de9960e05e"
      },
      "outputs": [
        {
          "output_type": "stream",
          "name": "stdout",
          "text": [
            "http://ce33-34-85-230-218.ngrok-free.app\n",
            "error: XDG_RUNTIME_DIR not set in the environment.\n",
            "ALSA lib confmisc.c:855:(parse_card) cannot find card '0'\n",
            "ALSA lib conf.c:5178:(_snd_config_evaluate) function snd_func_card_inum returned error: No such file or directory\n",
            "ALSA lib confmisc.c:422:(snd_func_concat) error evaluating strings\n",
            "ALSA lib conf.c:5178:(_snd_config_evaluate) function snd_func_concat returned error: No such file or directory\n",
            "ALSA lib confmisc.c:1334:(snd_func_refer) error evaluating name\n",
            "ALSA lib conf.c:5178:(_snd_config_evaluate) function snd_func_refer returned error: No such file or directory\n",
            "ALSA lib conf.c:5701:(snd_config_expand) Evaluate error: No such file or directory\n",
            "ALSA lib pcm.c:2664:(snd_pcm_open_noupdate) Unknown PCM default\n",
            "ALSA lib confmisc.c:855:(parse_card) cannot find card '0'\n",
            "ALSA lib conf.c:5178:(_snd_config_evaluate) function snd_func_card_inum returned error: No such file or directory\n",
            "ALSA lib confmisc.c:422:(snd_func_concat) error evaluating strings\n",
            "ALSA lib conf.c:5178:(_snd_config_evaluate) function snd_func_concat returned error: No such file or directory\n",
            "ALSA lib confmisc.c:1334:(snd_func_refer) error evaluating name\n",
            "ALSA lib conf.c:5178:(_snd_config_evaluate) function snd_func_refer returned error: No such file or directory\n",
            "ALSA lib conf.c:5701:(snd_config_expand) Evaluate error: No such file or directory\n",
            "ALSA lib pcm.c:2664:(snd_pcm_open_noupdate) Unknown PCM default\n",
            "WARNING ⚠️ Environment does not support cv2.imshow() or PIL Image.show()\n",
            "\n",
            "\n",
            "image 1/1 /root/segmented_download (1).jpeg: 416x640 1 cat, 367.1ms\n",
            "Speed: 2.7ms preprocess, 367.1ms inference, 5.0ms postprocess per image at shape (1, 3, 416, 640)\n",
            "Results saved to \u001b[1mruns/segment/predict\u001b[0m\n",
            "WARNING ⚠️ Environment does not support cv2.imshow() or PIL Image.show()\n",
            "\n",
            "\n",
            "image 1/1 /root/ig5.jpg: 288x640 5 persons, 1 clock, 102.7ms\n",
            "Speed: 1.5ms preprocess, 102.7ms inference, 7.7ms postprocess per image at shape (1, 3, 288, 640)\n",
            "Results saved to \u001b[1mruns/segment/predict\u001b[0m\n",
            "WARNING ⚠️ Environment does not support cv2.imshow() or PIL Image.show()\n",
            "\n",
            "\n",
            "\n",
            "    WARNING ⚠️ stream/video/webcam/dir predict source will accumulate results in RAM unless `stream=True` is passed,\n",
            "    causing potential out-of-memory errors for large sources or long-running streams/videos.\n",
            "\n",
            "    Usage:\n",
            "        results = model(source=..., stream=True)  # generator of Results objects\n",
            "        for r in results:\n",
            "            boxes = r.boxes  # Boxes object for bbox outputs\n",
            "            masks = r.masks  # Masks object for segment masks outputs\n",
            "            probs = r.probs  # Class probabilities for classification outputs\n",
            "\n",
            "video 1/1 (1/186) /root/WhatsApp Video 2023-07-11 at 16.19.40.mp4: 640x384 1 person, 157.2ms\n",
            "video 1/1 (2/186) /root/WhatsApp Video 2023-07-11 at 16.19.40.mp4: 640x384 1 person, 129.1ms\n",
            "video 1/1 (3/186) /root/WhatsApp Video 2023-07-11 at 16.19.40.mp4: 640x384 1 person, 129.2ms\n",
            "video 1/1 (4/186) /root/WhatsApp Video 2023-07-11 at 16.19.40.mp4: 640x384 1 person, 132.6ms\n",
            "video 1/1 (5/186) /root/WhatsApp Video 2023-07-11 at 16.19.40.mp4: 640x384 1 person, 130.7ms\n",
            "video 1/1 (6/186) /root/WhatsApp Video 2023-07-11 at 16.19.40.mp4: 640x384 1 person, 133.1ms\n",
            "video 1/1 (7/186) /root/WhatsApp Video 2023-07-11 at 16.19.40.mp4: 640x384 1 person, 136.5ms\n",
            "video 1/1 (8/186) /root/WhatsApp Video 2023-07-11 at 16.19.40.mp4: 640x384 1 person, 136.2ms\n",
            "video 1/1 (9/186) /root/WhatsApp Video 2023-07-11 at 16.19.40.mp4: 640x384 1 person, 131.2ms\n",
            "video 1/1 (10/186) /root/WhatsApp Video 2023-07-11 at 16.19.40.mp4: 640x384 1 person, 1 surfboard, 134.0ms\n",
            "video 1/1 (11/186) /root/WhatsApp Video 2023-07-11 at 16.19.40.mp4: 640x384 1 person, 1 surfboard, 134.9ms\n",
            "video 1/1 (12/186) /root/WhatsApp Video 2023-07-11 at 16.19.40.mp4: 640x384 1 person, 132.0ms\n",
            "video 1/1 (13/186) /root/WhatsApp Video 2023-07-11 at 16.19.40.mp4: 640x384 1 person, 134.7ms\n",
            "video 1/1 (14/186) /root/WhatsApp Video 2023-07-11 at 16.19.40.mp4: 640x384 1 person, 129.1ms\n",
            "video 1/1 (15/186) /root/WhatsApp Video 2023-07-11 at 16.19.40.mp4: 640x384 1 person, 1 surfboard, 129.2ms\n",
            "video 1/1 (16/186) /root/WhatsApp Video 2023-07-11 at 16.19.40.mp4: 640x384 1 person, 129.5ms\n",
            "video 1/1 (17/186) /root/WhatsApp Video 2023-07-11 at 16.19.40.mp4: 640x384 1 person, 140.0ms\n",
            "video 1/1 (18/186) /root/WhatsApp Video 2023-07-11 at 16.19.40.mp4: 640x384 1 person, 127.5ms\n",
            "video 1/1 (19/186) /root/WhatsApp Video 2023-07-11 at 16.19.40.mp4: 640x384 1 person, 142.6ms\n",
            "video 1/1 (20/186) /root/WhatsApp Video 2023-07-11 at 16.19.40.mp4: 640x384 1 person, 177.1ms\n",
            "video 1/1 (21/186) /root/WhatsApp Video 2023-07-11 at 16.19.40.mp4: 640x384 1 person, 178.5ms\n",
            "video 1/1 (22/186) /root/WhatsApp Video 2023-07-11 at 16.19.40.mp4: 640x384 1 person, 174.1ms\n",
            "video 1/1 (23/186) /root/WhatsApp Video 2023-07-11 at 16.19.40.mp4: 640x384 1 person, 169.9ms\n",
            "video 1/1 (24/186) /root/WhatsApp Video 2023-07-11 at 16.19.40.mp4: 640x384 1 person, 176.1ms\n",
            "video 1/1 (25/186) /root/WhatsApp Video 2023-07-11 at 16.19.40.mp4: 640x384 1 person, 179.5ms\n",
            "video 1/1 (26/186) /root/WhatsApp Video 2023-07-11 at 16.19.40.mp4: 640x384 1 person, 170.6ms\n",
            "video 1/1 (27/186) /root/WhatsApp Video 2023-07-11 at 16.19.40.mp4: 640x384 1 person, 169.4ms\n",
            "video 1/1 (28/186) /root/WhatsApp Video 2023-07-11 at 16.19.40.mp4: 640x384 1 person, 173.5ms\n",
            "video 1/1 (29/186) /root/WhatsApp Video 2023-07-11 at 16.19.40.mp4: 640x384 1 person, 181.3ms\n",
            "video 1/1 (30/186) /root/WhatsApp Video 2023-07-11 at 16.19.40.mp4: 640x384 1 person, 184.0ms\n",
            "video 1/1 (31/186) /root/WhatsApp Video 2023-07-11 at 16.19.40.mp4: 640x384 1 person, 184.2ms\n",
            "video 1/1 (32/186) /root/WhatsApp Video 2023-07-11 at 16.19.40.mp4: 640x384 1 person, 181.5ms\n",
            "video 1/1 (33/186) /root/WhatsApp Video 2023-07-11 at 16.19.40.mp4: 640x384 1 person, 131.1ms\n",
            "video 1/1 (34/186) /root/WhatsApp Video 2023-07-11 at 16.19.40.mp4: 640x384 1 person, 132.3ms\n",
            "video 1/1 (35/186) /root/WhatsApp Video 2023-07-11 at 16.19.40.mp4: 640x384 1 person, 130.5ms\n",
            "video 1/1 (36/186) /root/WhatsApp Video 2023-07-11 at 16.19.40.mp4: 640x384 1 person, 125.8ms\n",
            "video 1/1 (37/186) /root/WhatsApp Video 2023-07-11 at 16.19.40.mp4: 640x384 1 person, 137.8ms\n",
            "video 1/1 (38/186) /root/WhatsApp Video 2023-07-11 at 16.19.40.mp4: 640x384 1 person, 128.1ms\n",
            "video 1/1 (39/186) /root/WhatsApp Video 2023-07-11 at 16.19.40.mp4: 640x384 1 person, 131.4ms\n",
            "video 1/1 (40/186) /root/WhatsApp Video 2023-07-11 at 16.19.40.mp4: 640x384 1 person, 128.0ms\n",
            "video 1/1 (41/186) /root/WhatsApp Video 2023-07-11 at 16.19.40.mp4: 640x384 1 person, 136.7ms\n",
            "video 1/1 (42/186) /root/WhatsApp Video 2023-07-11 at 16.19.40.mp4: 640x384 1 person, 128.4ms\n",
            "video 1/1 (43/186) /root/WhatsApp Video 2023-07-11 at 16.19.40.mp4: 640x384 1 person, 139.5ms\n",
            "video 1/1 (44/186) /root/WhatsApp Video 2023-07-11 at 16.19.40.mp4: 640x384 1 person, 127.1ms\n",
            "video 1/1 (45/186) /root/WhatsApp Video 2023-07-11 at 16.19.40.mp4: 640x384 1 person, 128.9ms\n",
            "video 1/1 (46/186) /root/WhatsApp Video 2023-07-11 at 16.19.40.mp4: 640x384 1 person, 142.5ms\n",
            "video 1/1 (47/186) /root/WhatsApp Video 2023-07-11 at 16.19.40.mp4: 640x384 1 person, 145.6ms\n",
            "video 1/1 (48/186) /root/WhatsApp Video 2023-07-11 at 16.19.40.mp4: 640x384 1 person, 131.7ms\n",
            "video 1/1 (49/186) /root/WhatsApp Video 2023-07-11 at 16.19.40.mp4: 640x384 1 person, 128.2ms\n",
            "video 1/1 (50/186) /root/WhatsApp Video 2023-07-11 at 16.19.40.mp4: 640x384 1 person, 132.7ms\n",
            "video 1/1 (51/186) /root/WhatsApp Video 2023-07-11 at 16.19.40.mp4: 640x384 1 person, 131.6ms\n",
            "video 1/1 (52/186) /root/WhatsApp Video 2023-07-11 at 16.19.40.mp4: 640x384 1 person, 123.7ms\n",
            "video 1/1 (53/186) /root/WhatsApp Video 2023-07-11 at 16.19.40.mp4: 640x384 1 person, 135.2ms\n",
            "video 1/1 (54/186) /root/WhatsApp Video 2023-07-11 at 16.19.40.mp4: 640x384 1 person, 134.9ms\n",
            "video 1/1 (55/186) /root/WhatsApp Video 2023-07-11 at 16.19.40.mp4: 640x384 1 person, 128.0ms\n",
            "video 1/1 (56/186) /root/WhatsApp Video 2023-07-11 at 16.19.40.mp4: 640x384 1 person, 129.3ms\n",
            "video 1/1 (57/186) /root/WhatsApp Video 2023-07-11 at 16.19.40.mp4: 640x384 1 person, 141.5ms\n",
            "video 1/1 (58/186) /root/WhatsApp Video 2023-07-11 at 16.19.40.mp4: 640x384 1 person, 129.7ms\n",
            "video 1/1 (59/186) /root/WhatsApp Video 2023-07-11 at 16.19.40.mp4: 640x384 1 person, 133.0ms\n",
            "video 1/1 (60/186) /root/WhatsApp Video 2023-07-11 at 16.19.40.mp4: 640x384 1 person, 135.8ms\n",
            "video 1/1 (61/186) /root/WhatsApp Video 2023-07-11 at 16.19.40.mp4: 640x384 1 person, 132.4ms\n",
            "video 1/1 (62/186) /root/WhatsApp Video 2023-07-11 at 16.19.40.mp4: 640x384 1 person, 129.9ms\n",
            "video 1/1 (63/186) /root/WhatsApp Video 2023-07-11 at 16.19.40.mp4: 640x384 1 person, 134.0ms\n",
            "video 1/1 (64/186) /root/WhatsApp Video 2023-07-11 at 16.19.40.mp4: 640x384 1 person, 131.5ms\n",
            "video 1/1 (65/186) /root/WhatsApp Video 2023-07-11 at 16.19.40.mp4: 640x384 1 person, 130.1ms\n",
            "video 1/1 (66/186) /root/WhatsApp Video 2023-07-11 at 16.19.40.mp4: 640x384 1 person, 145.6ms\n",
            "video 1/1 (67/186) /root/WhatsApp Video 2023-07-11 at 16.19.40.mp4: 640x384 1 person, 134.8ms\n",
            "video 1/1 (68/186) /root/WhatsApp Video 2023-07-11 at 16.19.40.mp4: 640x384 1 person, 134.4ms\n",
            "video 1/1 (69/186) /root/WhatsApp Video 2023-07-11 at 16.19.40.mp4: 640x384 1 person, 127.0ms\n",
            "video 1/1 (70/186) /root/WhatsApp Video 2023-07-11 at 16.19.40.mp4: 640x384 1 person, 135.2ms\n",
            "video 1/1 (71/186) /root/WhatsApp Video 2023-07-11 at 16.19.40.mp4: 640x384 1 person, 128.3ms\n",
            "video 1/1 (72/186) /root/WhatsApp Video 2023-07-11 at 16.19.40.mp4: 640x384 1 person, 130.2ms\n",
            "video 1/1 (73/186) /root/WhatsApp Video 2023-07-11 at 16.19.40.mp4: 640x384 1 person, 137.0ms\n",
            "video 1/1 (74/186) /root/WhatsApp Video 2023-07-11 at 16.19.40.mp4: 640x384 1 person, 131.8ms\n",
            "video 1/1 (75/186) /root/WhatsApp Video 2023-07-11 at 16.19.40.mp4: 640x384 1 person, 138.9ms\n",
            "video 1/1 (76/186) /root/WhatsApp Video 2023-07-11 at 16.19.40.mp4: 640x384 1 person, 134.7ms\n",
            "video 1/1 (77/186) /root/WhatsApp Video 2023-07-11 at 16.19.40.mp4: 640x384 1 person, 131.0ms\n",
            "video 1/1 (78/186) /root/WhatsApp Video 2023-07-11 at 16.19.40.mp4: 640x384 1 person, 130.1ms\n",
            "video 1/1 (79/186) /root/WhatsApp Video 2023-07-11 at 16.19.40.mp4: 640x384 1 person, 137.6ms\n",
            "video 1/1 (80/186) /root/WhatsApp Video 2023-07-11 at 16.19.40.mp4: 640x384 1 person, 139.8ms\n",
            "video 1/1 (81/186) /root/WhatsApp Video 2023-07-11 at 16.19.40.mp4: 640x384 1 person, 136.7ms\n",
            "video 1/1 (82/186) /root/WhatsApp Video 2023-07-11 at 16.19.40.mp4: 640x384 1 person, 132.0ms\n",
            "video 1/1 (83/186) /root/WhatsApp Video 2023-07-11 at 16.19.40.mp4: 640x384 1 person, 134.9ms\n",
            "video 1/1 (84/186) /root/WhatsApp Video 2023-07-11 at 16.19.40.mp4: 640x384 1 person, 133.4ms\n",
            "video 1/1 (85/186) /root/WhatsApp Video 2023-07-11 at 16.19.40.mp4: 640x384 1 person, 135.0ms\n",
            "video 1/1 (86/186) /root/WhatsApp Video 2023-07-11 at 16.19.40.mp4: 640x384 1 person, 132.5ms\n",
            "video 1/1 (87/186) /root/WhatsApp Video 2023-07-11 at 16.19.40.mp4: 640x384 1 person, 135.5ms\n",
            "video 1/1 (88/186) /root/WhatsApp Video 2023-07-11 at 16.19.40.mp4: 640x384 1 person, 130.9ms\n",
            "video 1/1 (89/186) /root/WhatsApp Video 2023-07-11 at 16.19.40.mp4: 640x384 1 person, 135.6ms\n",
            "video 1/1 (90/186) /root/WhatsApp Video 2023-07-11 at 16.19.40.mp4: 640x384 1 person, 136.3ms\n",
            "video 1/1 (91/186) /root/WhatsApp Video 2023-07-11 at 16.19.40.mp4: 640x384 1 person, 138.7ms\n",
            "video 1/1 (92/186) /root/WhatsApp Video 2023-07-11 at 16.19.40.mp4: 640x384 1 person, 136.6ms\n",
            "video 1/1 (93/186) /root/WhatsApp Video 2023-07-11 at 16.19.40.mp4: 640x384 1 person, 132.1ms\n",
            "video 1/1 (94/186) /root/WhatsApp Video 2023-07-11 at 16.19.40.mp4: 640x384 1 person, 134.5ms\n",
            "video 1/1 (95/186) /root/WhatsApp Video 2023-07-11 at 16.19.40.mp4: 640x384 1 person, 129.5ms\n",
            "video 1/1 (96/186) /root/WhatsApp Video 2023-07-11 at 16.19.40.mp4: 640x384 1 person, 144.0ms\n",
            "video 1/1 (97/186) /root/WhatsApp Video 2023-07-11 at 16.19.40.mp4: 640x384 1 person, 131.3ms\n",
            "video 1/1 (98/186) /root/WhatsApp Video 2023-07-11 at 16.19.40.mp4: 640x384 1 person, 164.3ms\n",
            "video 1/1 (99/186) /root/WhatsApp Video 2023-07-11 at 16.19.40.mp4: 640x384 1 person, 1 surfboard, 185.1ms\n",
            "video 1/1 (100/186) /root/WhatsApp Video 2023-07-11 at 16.19.40.mp4: 640x384 1 person, 169.6ms\n",
            "video 1/1 (101/186) /root/WhatsApp Video 2023-07-11 at 16.19.40.mp4: 640x384 1 person, 1 surfboard, 173.5ms\n",
            "video 1/1 (102/186) /root/WhatsApp Video 2023-07-11 at 16.19.40.mp4: 640x384 1 person, 1 surfboard, 171.4ms\n",
            "video 1/1 (103/186) /root/WhatsApp Video 2023-07-11 at 16.19.40.mp4: 640x384 1 person, 1 surfboard, 183.7ms\n",
            "video 1/1 (104/186) /root/WhatsApp Video 2023-07-11 at 16.19.40.mp4: 640x384 1 person, 175.9ms\n",
            "video 1/1 (105/186) /root/WhatsApp Video 2023-07-11 at 16.19.40.mp4: 640x384 1 person, 164.5ms\n",
            "video 1/1 (106/186) /root/WhatsApp Video 2023-07-11 at 16.19.40.mp4: 640x384 1 person, 172.6ms\n",
            "video 1/1 (107/186) /root/WhatsApp Video 2023-07-11 at 16.19.40.mp4: 640x384 1 person, 177.6ms\n",
            "video 1/1 (108/186) /root/WhatsApp Video 2023-07-11 at 16.19.40.mp4: 640x384 1 person, 175.4ms\n",
            "video 1/1 (109/186) /root/WhatsApp Video 2023-07-11 at 16.19.40.mp4: 640x384 1 person, 190.9ms\n",
            "video 1/1 (110/186) /root/WhatsApp Video 2023-07-11 at 16.19.40.mp4: 640x384 1 person, 184.5ms\n",
            "video 1/1 (111/186) /root/WhatsApp Video 2023-07-11 at 16.19.40.mp4: 640x384 1 person, 167.4ms\n",
            "video 1/1 (112/186) /root/WhatsApp Video 2023-07-11 at 16.19.40.mp4: 640x384 1 person, 128.1ms\n",
            "video 1/1 (113/186) /root/WhatsApp Video 2023-07-11 at 16.19.40.mp4: 640x384 1 person, 130.1ms\n",
            "video 1/1 (114/186) /root/WhatsApp Video 2023-07-11 at 16.19.40.mp4: 640x384 1 person, 135.8ms\n",
            "video 1/1 (115/186) /root/WhatsApp Video 2023-07-11 at 16.19.40.mp4: 640x384 1 person, 129.6ms\n",
            "video 1/1 (116/186) /root/WhatsApp Video 2023-07-11 at 16.19.40.mp4: 640x384 1 person, 136.2ms\n",
            "video 1/1 (117/186) /root/WhatsApp Video 2023-07-11 at 16.19.40.mp4: 640x384 1 person, 136.3ms\n",
            "video 1/1 (118/186) /root/WhatsApp Video 2023-07-11 at 16.19.40.mp4: 640x384 1 person, 136.5ms\n",
            "video 1/1 (119/186) /root/WhatsApp Video 2023-07-11 at 16.19.40.mp4: 640x384 1 person, 136.0ms\n",
            "video 1/1 (120/186) /root/WhatsApp Video 2023-07-11 at 16.19.40.mp4: 640x384 1 person, 138.2ms\n",
            "video 1/1 (121/186) /root/WhatsApp Video 2023-07-11 at 16.19.40.mp4: 640x384 1 person, 133.0ms\n",
            "video 1/1 (122/186) /root/WhatsApp Video 2023-07-11 at 16.19.40.mp4: 640x384 1 person, 134.9ms\n",
            "video 1/1 (123/186) /root/WhatsApp Video 2023-07-11 at 16.19.40.mp4: 640x384 1 person, 133.8ms\n",
            "video 1/1 (124/186) /root/WhatsApp Video 2023-07-11 at 16.19.40.mp4: 640x384 1 person, 134.1ms\n",
            "video 1/1 (125/186) /root/WhatsApp Video 2023-07-11 at 16.19.40.mp4: 640x384 1 person, 134.3ms\n",
            "video 1/1 (126/186) /root/WhatsApp Video 2023-07-11 at 16.19.40.mp4: 640x384 1 person, 135.8ms\n",
            "video 1/1 (127/186) /root/WhatsApp Video 2023-07-11 at 16.19.40.mp4: 640x384 1 person, 129.5ms\n",
            "video 1/1 (128/186) /root/WhatsApp Video 2023-07-11 at 16.19.40.mp4: 640x384 1 person, 139.8ms\n",
            "video 1/1 (129/186) /root/WhatsApp Video 2023-07-11 at 16.19.40.mp4: 640x384 1 person, 131.0ms\n",
            "video 1/1 (130/186) /root/WhatsApp Video 2023-07-11 at 16.19.40.mp4: 640x384 1 person, 129.5ms\n",
            "video 1/1 (131/186) /root/WhatsApp Video 2023-07-11 at 16.19.40.mp4: 640x384 1 person, 134.6ms\n",
            "video 1/1 (132/186) /root/WhatsApp Video 2023-07-11 at 16.19.40.mp4: 640x384 1 person, 127.0ms\n",
            "video 1/1 (133/186) /root/WhatsApp Video 2023-07-11 at 16.19.40.mp4: 640x384 1 person, 131.9ms\n",
            "video 1/1 (134/186) /root/WhatsApp Video 2023-07-11 at 16.19.40.mp4: 640x384 1 person, 140.0ms\n",
            "video 1/1 (135/186) /root/WhatsApp Video 2023-07-11 at 16.19.40.mp4: 640x384 1 person, 128.0ms\n",
            "video 1/1 (136/186) /root/WhatsApp Video 2023-07-11 at 16.19.40.mp4: 640x384 1 person, 133.1ms\n",
            "video 1/1 (137/186) /root/WhatsApp Video 2023-07-11 at 16.19.40.mp4: 640x384 1 person, 1 surfboard, 138.4ms\n",
            "video 1/1 (138/186) /root/WhatsApp Video 2023-07-11 at 16.19.40.mp4: 640x384 1 person, 131.4ms\n",
            "video 1/1 (139/186) /root/WhatsApp Video 2023-07-11 at 16.19.40.mp4: 640x384 1 person, 1 surfboard, 140.3ms\n",
            "video 1/1 (140/186) /root/WhatsApp Video 2023-07-11 at 16.19.40.mp4: 640x384 1 person, 1 surfboard, 129.4ms\n",
            "video 1/1 (141/186) /root/WhatsApp Video 2023-07-11 at 16.19.40.mp4: 640x384 1 person, 1 surfboard, 138.6ms\n",
            "video 1/1 (142/186) /root/WhatsApp Video 2023-07-11 at 16.19.40.mp4: 640x384 1 person, 1 surfboard, 132.9ms\n",
            "video 1/1 (143/186) /root/WhatsApp Video 2023-07-11 at 16.19.40.mp4: 640x384 1 person, 134.0ms\n",
            "video 1/1 (144/186) /root/WhatsApp Video 2023-07-11 at 16.19.40.mp4: 640x384 1 person, 1 surfboard, 127.9ms\n",
            "video 1/1 (145/186) /root/WhatsApp Video 2023-07-11 at 16.19.40.mp4: 640x384 1 person, 132.2ms\n",
            "video 1/1 (146/186) /root/WhatsApp Video 2023-07-11 at 16.19.40.mp4: 640x384 1 person, 1 surfboard, 127.1ms\n",
            "video 1/1 (147/186) /root/WhatsApp Video 2023-07-11 at 16.19.40.mp4: 640x384 1 person, 131.4ms\n",
            "video 1/1 (148/186) /root/WhatsApp Video 2023-07-11 at 16.19.40.mp4: 640x384 1 person, 130.0ms\n",
            "video 1/1 (149/186) /root/WhatsApp Video 2023-07-11 at 16.19.40.mp4: 640x384 1 person, 128.8ms\n",
            "video 1/1 (150/186) /root/WhatsApp Video 2023-07-11 at 16.19.40.mp4: 640x384 1 person, 151.5ms\n",
            "video 1/1 (151/186) /root/WhatsApp Video 2023-07-11 at 16.19.40.mp4: 640x384 1 person, 134.1ms\n",
            "video 1/1 (152/186) /root/WhatsApp Video 2023-07-11 at 16.19.40.mp4: 640x384 1 person, 131.8ms\n",
            "video 1/1 (153/186) /root/WhatsApp Video 2023-07-11 at 16.19.40.mp4: 640x384 1 person, 131.7ms\n",
            "video 1/1 (154/186) /root/WhatsApp Video 2023-07-11 at 16.19.40.mp4: 640x384 1 person, 139.4ms\n",
            "video 1/1 (155/186) /root/WhatsApp Video 2023-07-11 at 16.19.40.mp4: 640x384 1 person, 1 surfboard, 143.4ms\n",
            "video 1/1 (156/186) /root/WhatsApp Video 2023-07-11 at 16.19.40.mp4: 640x384 1 person, 135.2ms\n",
            "video 1/1 (157/186) /root/WhatsApp Video 2023-07-11 at 16.19.40.mp4: 640x384 1 person, 133.0ms\n",
            "video 1/1 (158/186) /root/WhatsApp Video 2023-07-11 at 16.19.40.mp4: 640x384 1 person, 130.1ms\n",
            "video 1/1 (159/186) /root/WhatsApp Video 2023-07-11 at 16.19.40.mp4: 640x384 1 person, 134.2ms\n",
            "video 1/1 (160/186) /root/WhatsApp Video 2023-07-11 at 16.19.40.mp4: 640x384 1 person, 136.7ms\n",
            "video 1/1 (161/186) /root/WhatsApp Video 2023-07-11 at 16.19.40.mp4: 640x384 1 person, 137.3ms\n",
            "video 1/1 (162/186) /root/WhatsApp Video 2023-07-11 at 16.19.40.mp4: 640x384 1 person, 131.4ms\n",
            "video 1/1 (163/186) /root/WhatsApp Video 2023-07-11 at 16.19.40.mp4: 640x384 1 person, 139.2ms\n",
            "video 1/1 (164/186) /root/WhatsApp Video 2023-07-11 at 16.19.40.mp4: 640x384 1 person, 136.2ms\n",
            "video 1/1 (165/186) /root/WhatsApp Video 2023-07-11 at 16.19.40.mp4: 640x384 1 person, 136.2ms\n",
            "video 1/1 (166/186) /root/WhatsApp Video 2023-07-11 at 16.19.40.mp4: 640x384 1 person, 135.5ms\n",
            "video 1/1 (167/186) /root/WhatsApp Video 2023-07-11 at 16.19.40.mp4: 640x384 1 person, 138.3ms\n",
            "video 1/1 (168/186) /root/WhatsApp Video 2023-07-11 at 16.19.40.mp4: 640x384 1 person, 128.9ms\n",
            "video 1/1 (169/186) /root/WhatsApp Video 2023-07-11 at 16.19.40.mp4: 640x384 1 person, 135.7ms\n",
            "video 1/1 (170/186) /root/WhatsApp Video 2023-07-11 at 16.19.40.mp4: 640x384 1 person, 128.9ms\n",
            "video 1/1 (171/186) /root/WhatsApp Video 2023-07-11 at 16.19.40.mp4: 640x384 1 person, 126.0ms\n",
            "video 1/1 (172/186) /root/WhatsApp Video 2023-07-11 at 16.19.40.mp4: 640x384 1 person, 131.2ms\n",
            "video 1/1 (173/186) /root/WhatsApp Video 2023-07-11 at 16.19.40.mp4: 640x384 1 person, 137.3ms\n",
            "video 1/1 (174/186) /root/WhatsApp Video 2023-07-11 at 16.19.40.mp4: 640x384 1 person, 133.6ms\n",
            "video 1/1 (175/186) /root/WhatsApp Video 2023-07-11 at 16.19.40.mp4: 640x384 1 person, 141.1ms\n",
            "video 1/1 (176/186) /root/WhatsApp Video 2023-07-11 at 16.19.40.mp4: 640x384 1 person, 182.1ms\n",
            "video 1/1 (177/186) /root/WhatsApp Video 2023-07-11 at 16.19.40.mp4: 640x384 1 person, 172.6ms\n",
            "video 1/1 (178/186) /root/WhatsApp Video 2023-07-11 at 16.19.40.mp4: 640x384 1 person, 181.6ms\n",
            "video 1/1 (179/186) /root/WhatsApp Video 2023-07-11 at 16.19.40.mp4: 640x384 1 person, 184.9ms\n",
            "video 1/1 (180/186) /root/WhatsApp Video 2023-07-11 at 16.19.40.mp4: 640x384 1 person, 173.4ms\n",
            "video 1/1 (181/186) /root/WhatsApp Video 2023-07-11 at 16.19.40.mp4: 640x384 1 person, 176.9ms\n",
            "video 1/1 (182/186) /root/WhatsApp Video 2023-07-11 at 16.19.40.mp4: 640x384 1 person, 183.0ms\n",
            "video 1/1 (183/186) /root/WhatsApp Video 2023-07-11 at 16.19.40.mp4: 640x384 1 person, 174.1ms\n",
            "video 1/1 (184/186) /root/WhatsApp Video 2023-07-11 at 16.19.40.mp4: 640x384 1 person, 177.2ms\n",
            "video 1/1 (185/186) /root/WhatsApp Video 2023-07-11 at 16.19.40.mp4: 640x384 1 person, 181.6ms\n",
            "video 1/1 (186/186) /root/WhatsApp Video 2023-07-11 at 16.19.40.mp4: 640x384 1 person, 174.4ms\n",
            "Speed: 1.9ms preprocess, 142.6ms inference, 2.9ms postprocess per image at shape (1, 3, 640, 384)\n",
            "Results saved to \u001b[1mruns/segment/predict\u001b[0m\n"
          ]
        }
      ],
      "source": [
        "from pyngrok import ngrok\n",
        "public_url = ngrok.connect(port='8501')\n",
        "print (public_url)\n",
        "!streamlit run --server.port 8501 https://raw.githubusercontent.com/Satyajit24behera/Instance-Segmentation-Webapp/main/segmentation.py >/dev/null"
      ]
    },
    {
      "cell_type": "code",
      "execution_count": 26,
      "metadata": {
        "id": "-xBs3y3v_g8z"
      },
      "outputs": [],
      "source": [
        "!pgrep streamlit\n",
        "ngrok.kill()"
      ]
    }
  ],
  "metadata": {
    "colab": {
      "provenance": [],
      "authorship_tag": "ABX9TyOZr6lnEvjVJSQbGvthscQ+",
      "include_colab_link": true
    },
    "kernelspec": {
      "display_name": "Python 3",
      "name": "python3"
    },
    "language_info": {
      "name": "python"
    }
  },
  "nbformat": 4,
  "nbformat_minor": 0
}